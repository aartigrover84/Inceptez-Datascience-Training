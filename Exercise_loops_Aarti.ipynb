{
 "cells": [
  {
   "cell_type": "markdown",
   "metadata": {},
   "source": [
    "### The questions for the exercises are given above the cells and the expected output is given below the cell. Please type the code inserting a new cell below the question because if you run the expected output cell the output would vanish! Happy learning! "
   ]
  },
  {
   "cell_type": "markdown",
   "metadata": {},
   "source": [
    "## 1. Write a Python program to find those numbers which are divisible by 7 and multiple of 5, between 1500 and 2700 (both included). "
   ]
  },
  {
   "cell_type": "code",
   "execution_count": 1,
   "metadata": {},
   "outputs": [
    {
     "name": "stdout",
     "output_type": "stream",
     "text": [
      "1505,1540,1575,1610,1645,1680,1715,1750,1785,1820,1855,1890,1925,1960,1995,2030,2065,2100,2135,2170,2205,2240,2275,2310,2345,2380,2415,2450,2485,2520,2555,2590,2625,2660,2695\n"
     ]
    }
   ],
   "source": []
  },
  {
   "cell_type": "code",
   "execution_count": 3,
   "metadata": {},
   "outputs": [
    {
     "name": "stdout",
     "output_type": "stream",
     "text": [
      "1505,1540,1575,1610,1645,1680,1715,1750,1785,1820,1855,1890,1925,1960,1995,2030,2065,2100,2135,2170,2205,2240,2275,2310,2345,2380,2415,2450,2485,2520,2555,2590,2625,2660,2695,"
     ]
    }
   ],
   "source": [
    "for i in range(1500, 2700):\n",
    "    if (i%35 ==0):\n",
    "        print(i, end=\",\")"
   ]
  },
  {
   "cell_type": "code",
   "execution_count": null,
   "metadata": {},
   "outputs": [],
   "source": []
  },
  {
   "cell_type": "markdown",
   "metadata": {},
   "source": [
    "## 2. Write a Python program to construct the following pattern, using a nested for loop.\n"
   ]
  },
  {
   "cell_type": "code",
   "execution_count": 3,
   "metadata": {},
   "outputs": [
    {
     "name": "stdout",
     "output_type": "stream",
     "text": [
      "\n",
      "* \n",
      "* * \n",
      "* * * \n",
      "* * * * \n",
      "* * * * * \n",
      "* * * * \n",
      "* * * \n",
      "* * \n",
      "* \n"
     ]
    }
   ],
   "source": []
  },
  {
   "cell_type": "code",
   "execution_count": 10,
   "metadata": {},
   "outputs": [
    {
     "name": "stdout",
     "output_type": "stream",
     "text": [
      "\n",
      "\n",
      "* \n",
      "* * \n",
      "* * * \n",
      "* * * * \n",
      "* * * * * \n",
      "* * * * \n",
      "* * * \n",
      "* * \n",
      "* "
     ]
    }
   ],
   "source": [
    "triLength=5\n",
    "for i in range(0, triLength):\n",
    "    print()\n",
    "    for j in range(0,i):\n",
    "        print(\"*\", end=\" \")\n",
    "for i in range(triLength, 0, -1):\n",
    "    print()\n",
    "    for j in range(i, 0, -1):\n",
    "        print(\"*\", end=\" \")"
   ]
  },
  {
   "cell_type": "code",
   "execution_count": null,
   "metadata": {},
   "outputs": [],
   "source": []
  },
  {
   "cell_type": "markdown",
   "metadata": {},
   "source": [
    "## 3. Write a Python program to count the number of even and odd numbers from a series of numbers."
   ]
  },
  {
   "cell_type": "code",
   "execution_count": 4,
   "metadata": {},
   "outputs": [
    {
     "name": "stdout",
     "output_type": "stream",
     "text": [
      "Number of even numbers : 4\n",
      "Number of odd numbers : 5\n"
     ]
    }
   ],
   "source": []
  },
  {
   "cell_type": "code",
   "execution_count": 1,
   "metadata": {},
   "outputs": [],
   "source": [
    "series = [1,2,3,4,5,6,7,8]\n",
    "    "
   ]
  },
  {
   "cell_type": "code",
   "execution_count": 5,
   "metadata": {},
   "outputs": [
    {
     "name": "stdout",
     "output_type": "stream",
     "text": [
      "evenNumbers in series:  4\n",
      "odd Numbers in series:  4\n"
     ]
    }
   ],
   "source": [
    "evenNumbers = 0\n",
    "oddNumbers = 0\n",
    "for i in range (0, len(series)):\n",
    "    if (series[i]%2 ==0):\n",
    "        evenNumbers = evenNumbers + 1\n",
    "    else:\n",
    "        oddNumbers = oddNumbers + 1\n",
    "print(\"evenNumbers in series: \", evenNumbers)\n",
    "print(\"odd Numbers in series: \", oddNumbers)"
   ]
  },
  {
   "cell_type": "code",
   "execution_count": null,
   "metadata": {},
   "outputs": [],
   "source": []
  },
  {
   "cell_type": "code",
   "execution_count": null,
   "metadata": {},
   "outputs": [],
   "source": []
  },
  {
   "cell_type": "markdown",
   "metadata": {},
   "source": [
    "## 4. Write a Python program to find numbers between 100 and 400 (both included) where each digit of a number is an even number. The numbers obtained should be printed in a comma-separated sequence."
   ]
  },
  {
   "cell_type": "code",
   "execution_count": 5,
   "metadata": {},
   "outputs": [
    {
     "name": "stdout",
     "output_type": "stream",
     "text": [
      "200,202,204,206,208,220,222,224,226,228,240,242,244,246,248,260,262,264,266,268,280,282,284,286,288,400\n"
     ]
    }
   ],
   "source": [
    "    "
   ]
  },
  {
   "cell_type": "code",
   "execution_count": 27,
   "metadata": {},
   "outputs": [
    {
     "name": "stdout",
     "output_type": "stream",
     "text": [
      "200,202,204,206,208,220,222,224,226,228,240,242,244,246,248,260,262,264,266,268,280,282,284,286,288,400,"
     ]
    }
   ],
   "source": [
    "for i in range(100,401):    \n",
    "    evenFlag = True\n",
    "    for digit in str(i):\n",
    "        if int(digit)%2 != 0:\n",
    "            evenFlag=False\n",
    "            break\n",
    "            \n",
    "    if evenFlag:\n",
    "        print(i, end=\",\")\n",
    "        \n",
    "    "
   ]
  },
  {
   "cell_type": "markdown",
   "metadata": {},
   "source": [
    "## 5. Write a Python program to calculate a dog's age in dog's years. Go to the editor\n",
    "Note: For the first two years, a dog year is equal to 10.5 human years. After that, each dog year equals 4 human years."
   ]
  },
  {
   "cell_type": "code",
   "execution_count": 7,
   "metadata": {},
   "outputs": [
    {
     "name": "stdout",
     "output_type": "stream",
     "text": [
      "Input a dog's age in human years: 20\n",
      "The dog's age in dog's years is 93\n"
     ]
    }
   ],
   "source": []
  },
  {
   "cell_type": "markdown",
   "metadata": {},
   "source": [
    "## 6. Write a Python function to find the Max of three numbers."
   ]
  },
  {
   "cell_type": "code",
   "execution_count": 9,
   "metadata": {},
   "outputs": [
    {
     "name": "stdout",
     "output_type": "stream",
     "text": [
      "The Three numbers are: (3, 6, -5)\n",
      "6\n"
     ]
    }
   ],
   "source": []
  },
  {
   "cell_type": "code",
   "execution_count": 39,
   "metadata": {},
   "outputs": [],
   "source": [
    "def max(n1,n2,n3):\n",
    "    maxNum = 0\n",
    "    tempMax=0\n",
    "    if (n1 > n2):\n",
    "        tempMax = n1\n",
    "    else:\n",
    "        tempMax = n2 \n",
    "    if (tempMax > n3):\n",
    "        maxNum = tempMax\n",
    "    else:\n",
    "        maxNum = n3\n",
    "    return maxNum\n",
    "            "
   ]
  },
  {
   "cell_type": "code",
   "execution_count": 40,
   "metadata": {},
   "outputs": [
    {
     "name": "stdout",
     "output_type": "stream",
     "text": [
      "max number:  5\n"
     ]
    }
   ],
   "source": [
    "print( \"max number: \", max(4, 1, 5) )"
   ]
  },
  {
   "cell_type": "markdown",
   "metadata": {},
   "source": [
    "## 7. Write a Python function that takes a number as a parameter and check the number is prime or not."
   ]
  },
  {
   "cell_type": "code",
   "execution_count": 41,
   "metadata": {},
   "outputs": [],
   "source": [
    "\n",
    "            "
   ]
  },
  {
   "cell_type": "code",
   "execution_count": 60,
   "metadata": {},
   "outputs": [],
   "source": [
    "def prime(num):\n",
    "    primeFlag = True\n",
    "    if (num == 1 or num ==2 or num ==3):\n",
    "        return primeFlag\n",
    "    for i in range(2, int(num/2)):\n",
    "        if (num%i ==0):\n",
    "            primeFlag = False\n",
    "            break\n",
    "    return primeFlag"
   ]
  },
  {
   "cell_type": "code",
   "execution_count": 62,
   "metadata": {},
   "outputs": [
    {
     "name": "stdout",
     "output_type": "stream",
     "text": [
      "Enter a number!\n",
      "11\n",
      "number is prime:  11\n"
     ]
    }
   ],
   "source": [
    "print(\"Enter a number!\")\n",
    "n = input()\n",
    "isPrime = prime(int(n))\n",
    "if isPrime:\n",
    "    print(\"number is prime: \", n)\n",
    "else:\n",
    "    print(\"number s not prime: \" , n)"
   ]
  },
  {
   "cell_type": "markdown",
   "metadata": {},
   "source": [
    "## 8. Write a Python function that accepts a string and calculate the number of upper case letters and lower case letters. Go to the editor\n"
   ]
  },
  {
   "cell_type": "code",
   "execution_count": 13,
   "metadata": {},
   "outputs": [
    {
     "name": "stdout",
     "output_type": "stream",
     "text": [
      "Original String :  Inceptz is One of The BeSt Places TO LEarn DataSciEnce\n",
      "No. of Upper case characters :  13\n",
      "No. of Lower case Characters :  32\n"
     ]
    }
   ],
   "source": []
  },
  {
   "cell_type": "code",
   "execution_count": 75,
   "metadata": {},
   "outputs": [],
   "source": [
    "def countUpperLowerCaseChars(str):\n",
    "    lcaseCount=0\n",
    "    ucaseCount=0\n",
    "    otherCount=0\n",
    "    for i in str:\n",
    "        val = ord(i)\n",
    "        if (val >= 65 and val <= 90):\n",
    "            ucaseCount = ucaseCount + 1\n",
    "        elif (val >= 97 and val<= 122):\n",
    "            lcaseCount = lcaseCount + 1\n",
    "        else:\n",
    "            otherCount = otherCount + 1\n",
    "    print(\"No. of Upper case characters : \", ucaseCount)\n",
    "    print(\"No. of Lower case characters : \", lcaseCount)\n",
    "        "
   ]
  },
  {
   "cell_type": "code",
   "execution_count": 76,
   "metadata": {},
   "outputs": [
    {
     "name": "stdout",
     "output_type": "stream",
     "text": [
      "No. of Upper case characters :  13\n",
      "No. of Lower case characters :  32\n"
     ]
    }
   ],
   "source": [
    "countUpperLowerCaseChars(\"Inceptz is One of The BeSt Places TO LEarn DataSciEnce\")"
   ]
  },
  {
   "cell_type": "markdown",
   "metadata": {},
   "source": [
    "## 9. Write a Python program to reverse a string. "
   ]
  },
  {
   "cell_type": "code",
   "execution_count": 19,
   "metadata": {},
   "outputs": [
    {
     "name": "stdout",
     "output_type": "stream",
     "text": [
      "The original string is: 1234abcd\n",
      "The reversed string: dcba4321\n"
     ]
    }
   ],
   "source": []
  },
  {
   "cell_type": "code",
   "execution_count": 85,
   "metadata": {},
   "outputs": [],
   "source": [
    "def reverse(str):\n",
    "    charList = []\n",
    "    for i in str:\n",
    "        charList.append(i)\n",
    "    \n",
    "    for i in range (len(charList),0, -1):\n",
    "        print(charList[i-1], end=\"\")\n",
    "        \n",
    "    "
   ]
  },
  {
   "cell_type": "code",
   "execution_count": 86,
   "metadata": {},
   "outputs": [
    {
     "name": "stdout",
     "output_type": "stream",
     "text": [
      "itraa"
     ]
    }
   ],
   "source": [
    "reverse(\"aarti\")"
   ]
  },
  {
   "cell_type": "code",
   "execution_count": null,
   "metadata": {},
   "outputs": [],
   "source": []
  },
  {
   "cell_type": "markdown",
   "metadata": {},
   "source": [
    "## 10. Write a Python program to find  the greatest common divisor (gcd) of two integers."
   ]
  },
  {
   "cell_type": "code",
   "execution_count": 18,
   "metadata": {},
   "outputs": [
    {
     "name": "stdout",
     "output_type": "stream",
     "text": [
      "The two numbers are: (12, 14)\n",
      "The GCD of the numbers are: 2\n"
     ]
    }
   ],
   "source": []
  },
  {
   "cell_type": "markdown",
   "metadata": {},
   "source": [
    "## 11. Write a function to find if a string is a palindrome or not! \n",
    "eg: \n",
    "\"NAMAN\" - is a palindrome \n",
    "\"INCEPTEZ\" - is not a palindrome! "
   ]
  },
  {
   "cell_type": "code",
   "execution_count": null,
   "metadata": {},
   "outputs": [],
   "source": []
  },
  {
   "cell_type": "code",
   "execution_count": 108,
   "metadata": {},
   "outputs": [],
   "source": [
    "def palindrome(str):\n",
    "    length=len(str)\n",
    "    strList = []\n",
    "    for i in str:\n",
    "        strList.append(i)\n",
    "        \n",
    "    flag=True    \n",
    "    j = length-1   \n",
    "    for i in range(0,int(length/2)):\n",
    "        if str[i] != str[j]:\n",
    "            flag = False\n",
    "            break\n",
    "        j = j-1\n",
    "    if flag:\n",
    "        print(\"input is a palindrome \", str)\n",
    "    else:\n",
    "        print(\"input is not a palindrome: \", str)"
   ]
  },
  {
   "cell_type": "code",
   "execution_count": 113,
   "metadata": {},
   "outputs": [
    {
     "name": "stdout",
     "output_type": "stream",
     "text": [
      "input is a palindrome  aba\n"
     ]
    }
   ],
   "source": [
    "palindrome(\"aba\")"
   ]
  },
  {
   "cell_type": "markdown",
   "metadata": {},
   "source": [
    "## 12. Write a recurssive function to find if a string is a palindrome or not! "
   ]
  },
  {
   "cell_type": "code",
   "execution_count": 136,
   "metadata": {},
   "outputs": [],
   "source": [
    "def palindromeRecr(inp, start, end):\n",
    "    if (start == end):\n",
    "        print(\"1111\")\n",
    "        return True\n",
    "    if (inp[start] != inp[end]):\n",
    "        print(\"2222\")\n",
    "        return False\n",
    "    if (inp[start] == inp[end] and start < end - 1):\n",
    "        print(\"3333\")\n",
    "        palindromeRecr(inp, start+1, end-1)\n",
    "    "
   ]
  },
  {
   "cell_type": "code",
   "execution_count": 137,
   "metadata": {},
   "outputs": [
    {
     "name": "stdout",
     "output_type": "stream",
     "text": [
      "Enter input string!\n",
      "nitin\n",
      "['n', 'i', 't', 'i', 'n']\n",
      "3333\n",
      "3333\n",
      "1111\n",
      "None\n",
      "input is not palindrome:  nitin\n"
     ]
    }
   ],
   "source": [
    "print(\"Enter input string!\")\n",
    "str=input()\n",
    "length=len(str)\n",
    "strList = []\n",
    "for i in str:\n",
    "    strList.append(i)\n",
    "print(strList)\n",
    "palinFlag = palindromeRecr(strList, 0, length-1)\n",
    "print(palinFlag)\n",
    "if (palinFlag):\n",
    "    print(\"input is palindrome: \", str)\n",
    "else:\n",
    "    print(\"input is not palindrome: \", str)"
   ]
  },
  {
   "cell_type": "code",
   "execution_count": null,
   "metadata": {},
   "outputs": [],
   "source": []
  }
 ],
 "metadata": {
  "kernelspec": {
   "display_name": "Python 3",
   "language": "python",
   "name": "python3"
  },
  "language_info": {
   "codemirror_mode": {
    "name": "ipython",
    "version": 3
   },
   "file_extension": ".py",
   "mimetype": "text/x-python",
   "name": "python",
   "nbconvert_exporter": "python",
   "pygments_lexer": "ipython3",
   "version": "3.8.5"
  }
 },
 "nbformat": 4,
 "nbformat_minor": 4
}
